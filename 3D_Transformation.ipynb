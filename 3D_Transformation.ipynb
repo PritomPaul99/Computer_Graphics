{
 "cells": [
  {
   "cell_type": "markdown",
   "metadata": {},
   "source": [
    "# **3D Transformation**"
   ]
  },
  {
   "cell_type": "code",
   "execution_count": 6,
   "metadata": {},
   "outputs": [],
   "source": [
    "import math\n",
    "import numpy as np"
   ]
  },
  {
   "cell_type": "markdown",
   "metadata": {},
   "source": [
    "## 1. Translation"
   ]
  },
  {
   "cell_type": "code",
   "execution_count": 4,
   "metadata": {},
   "outputs": [
    {
     "name": "stdout",
     "output_type": "stream",
     "text": [
      "New coordinate: (6, 8, 9)\n"
     ]
    }
   ],
   "source": [
    "n = int(input(\"Enter numbers of coordinate: \"))\n",
    "\n",
    "x = []\n",
    "y = []\n",
    "z = []\n",
    "\n",
    "for i in range (n):\n",
    "    xi = int(input(\"x: \"))\n",
    "    yi = int(input(\"y: \"))\n",
    "    zi = int(input(\"z: \"))\n",
    "    \n",
    "    x.append(xi)\n",
    "    y.append(yi)\n",
    "    z.append(zi)\n",
    "   \n",
    "tx = int(input(\"tx: \"))\n",
    "ty = int(input(\"ty: \"))\n",
    "tz = int(input(\"tz: \"))\n",
    "\n",
    "for i in range (n):\n",
    "    x[i] += tx\n",
    "    y[i] += ty\n",
    "    z[i] += tz\n",
    "\n",
    "for i in range (n):\n",
    "    print(f\"New coordinate: ({x[i]}, {y[i]}, {z[i]})\")\n",
    "    "
   ]
  },
  {
   "cell_type": "markdown",
   "metadata": {},
   "source": [
    "## 2. Rotation"
   ]
  },
  {
   "cell_type": "code",
   "execution_count": 7,
   "metadata": {},
   "outputs": [
    {
     "name": "stdout",
     "output_type": "stream",
     "text": [
      "New coordinates 1: (1.0, 0.23205080756887764, 3.598076211353316)\n",
      "New coordinates 2: (4.0, 1.330127018922194, 7.696152422706632)\n"
     ]
    }
   ],
   "source": [
    "n = int(input(\"Enter number of coordinates: \"))\n",
    "\n",
    "x = []\n",
    "y = []\n",
    "z = []\n",
    "r = math.radians(float(input(\"Enter angle: \")))\n",
    "\n",
    "for i in range(n):\n",
    "    ix = float(input(\"Enter x: \"))\n",
    "    iy = float(input(\"Enter y: \"))\n",
    "    iz = float(input(\"Enter z: \"))\n",
    "    \n",
    "    x.append(ix)\n",
    "    y.append(iy)\n",
    "    z.append(iz)\n",
    "\n",
    "a = input(\"Select(x/y/z): \")\n",
    "\n",
    "if a == 'x':\n",
    "    for i in range(n):\n",
    "        ny = y[i] * math.cos(r) - z[i] * math.sin(r)\n",
    "        nz = y[i] * math.sin(r) + z[i] * math.cos(r)\n",
    "\n",
    "        y[i] = ny\n",
    "        z[i] = nz\n",
    "    \n",
    "elif a == 'y':\n",
    "    for i in range(n):\n",
    "        nx = x[i] * math.cos(r) + z[i] * math.sin(r)\n",
    "        nz = -x[i] * math.sin(r) + z[i] * math.cos(r)\n",
    "\n",
    "        x[i] = nx\n",
    "        z[i] = nz\n",
    "    \n",
    "elif a == 'z':\n",
    "    for i in range(n):\n",
    "        nx = x[i] * math.cos(r) - y[i] * math.sin(r)\n",
    "        ny = x[i] * math.sin(r) + y[i] * math.cos(r)\n",
    "\n",
    "        x[i] = nx\n",
    "        y[i] = ny\n",
    "\n",
    "for i in range(n):\n",
    "    print(f\"New coordinates {i + 1}: ({x[i]}, {y[i]}, {z[i]})\")"
   ]
  },
  {
   "cell_type": "markdown",
   "metadata": {},
   "source": [
    "## 3. Scaling"
   ]
  },
  {
   "cell_type": "code",
   "execution_count": null,
   "metadata": {},
   "outputs": [],
   "source": [
    "n = int(input(\"Enter number of coordinates: \"))\n",
    "\n",
    "x = []\n",
    "y = []\n",
    "z = []\n",
    "\n",
    "for i in range(n):\n",
    "    ix = int(input(\"Enter x: \"))\n",
    "    iy = int(input(\"Enter y: \"))\n",
    "    iz = int(input(\"Enter z: \"))\n",
    "    \n",
    "    x.append(ix)\n",
    "    y.append(iy)\n",
    "    z.append(iz)\n",
    "\n",
    "sx = int(input(\"Enter sx: \"))\n",
    "sy = int(input(\"Enter sy: \"))\n",
    "sz = int(input(\"Enter sz: \"))\n",
    "\n",
    "for i in range(n):\n",
    "    x[i] *= sx\n",
    "    y[i] *= sy\n",
    "    z[i] *= sz\n",
    "\n",
    "for i in range(n):\n",
    "    print(f\"New coordinates {i + 1}: ({x[i]}, {y[i]}, {z[i]})\")"
   ]
  },
  {
   "cell_type": "markdown",
   "metadata": {},
   "source": [
    "## 4. Reflection"
   ]
  },
  {
   "cell_type": "code",
   "execution_count": null,
   "metadata": {},
   "outputs": [],
   "source": [
    "n = int(input(\"Enter number of coordinates: \"))\n",
    "\n",
    "x = []\n",
    "y = []\n",
    "z = []\n",
    "\n",
    "for i in range(n):\n",
    "    ix = int(input(\"Enter x: \"))\n",
    "    iy = int(input(\"Enter y: \"))\n",
    "    iz = int(input(\"Enter z: \"))\n",
    "    \n",
    "    x.append(ix)\n",
    "    y.append(iy)\n",
    "    z.append(iz)\n",
    "\n",
    "r = input(\"Select(x/y/z): \")\n",
    "\n",
    "if r == 'x':\n",
    "    for i in range(n):\n",
    "        x[i] = -x[i]\n",
    "elif r == 'y':\n",
    "    for i in range(n):\n",
    "        y[i] = -y[i]\n",
    "elif r == 'z':\n",
    "    for i in range(n):\n",
    "        z[i] = -z[i]\n",
    "\n",
    "for i in range(n):\n",
    "    print(f\"New coordinates {i + 1}: ({x[i]}, {y[i]}, {z[i]})\")"
   ]
  },
  {
   "cell_type": "markdown",
   "metadata": {},
   "source": [
    "## 5. Shearing"
   ]
  },
  {
   "cell_type": "code",
   "execution_count": null,
   "metadata": {},
   "outputs": [],
   "source": [
    "n = int(input(\"Enter number of coordinates: \"))\n",
    "\n",
    "x = []\n",
    "y = []\n",
    "z = []\n",
    "\n",
    "for i in range(n):\n",
    "    ix = int(input(\"Enter x: \"))\n",
    "    iy = int(input(\"Enter y: \"))\n",
    "    iz = int(input(\"Enter z: \"))\n",
    "    \n",
    "    x.append(ix)\n",
    "    y.append(iy)\n",
    "    z.append(iz)\n",
    "    \n",
    "shx = float(input(\"Enter sx: \"))\n",
    "shy = float(input(\"Enter sy: \"))\n",
    "shz = float(input(\"Enter sz: \"))\n",
    "\n",
    "r = input(\"Select(x/y/z): \")\n",
    "\n",
    "if r == 'x':\n",
    "    for i in range(n):\n",
    "        y[i] = y[i] + x[i] * shy\n",
    "        z[i] = z[i] + x[i] * shz\n",
    "elif r == 'y':\n",
    "    for i in range(n):\n",
    "        x[i] = x[i] + y[i] * shx\n",
    "        z[i] = z[i] + y[i] * shz\n",
    "elif r == 'z':\n",
    "    for i in range(n):\n",
    "        x[i] = x[i] + z[i] * shx\n",
    "        y[i] = y[i] + z[i] * shy\n",
    "\n",
    "for i in range(n):\n",
    "    print(f\"New coordinates {i + 1}: ({x[i]}, {y[i]}, {z[i]})\")"
   ]
  }
 ],
 "metadata": {
  "kernelspec": {
   "display_name": "base",
   "language": "python",
   "name": "python3"
  },
  "language_info": {
   "codemirror_mode": {
    "name": "ipython",
    "version": 3
   },
   "file_extension": ".py",
   "mimetype": "text/x-python",
   "name": "python",
   "nbconvert_exporter": "python",
   "pygments_lexer": "ipython3",
   "version": "3.11.3"
  }
 },
 "nbformat": 4,
 "nbformat_minor": 2
}
