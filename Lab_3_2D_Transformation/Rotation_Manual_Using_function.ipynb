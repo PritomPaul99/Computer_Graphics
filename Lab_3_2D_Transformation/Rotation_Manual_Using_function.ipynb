{
 "cells": [
  {
   "cell_type": "markdown",
   "metadata": {},
   "source": [
    "# 2D Transformation"
   ]
  },
  {
   "cell_type": "markdown",
   "metadata": {},
   "source": [
    "## Rotation (Using manual function)"
   ]
  },
  {
   "cell_type": "code",
   "execution_count": 1,
   "metadata": {},
   "outputs": [],
   "source": [
    "import matplotlib.pyplot  as plt\n",
    "import matplotlib.image as img\n",
    "import numpy as np\n",
    "import math \n",
    "import cv2"
   ]
  },
  {
   "cell_type": "markdown",
   "metadata": {},
   "source": [
    "#### **Rotate Function**"
   ]
  },
  {
   "cell_type": "code",
   "execution_count": 2,
   "metadata": {},
   "outputs": [],
   "source": [
    "def Rotate(image, angle):\n",
    "    h, w = image.shape\n",
    "    \n",
    "    rad = math.radians(angle)\n",
    "    \n",
    "    newImage = np.zeros((w + 250, h + 250), dtype=\"uint8\")\n",
    "    \n",
    "    for i in range (h):\n",
    "        for j in range (w):\n",
    "            pix = image[i][j]\n",
    "            pnt = np.array([i, j]).reshape(-1, 1)\n",
    "            \n",
    "            rotate_mat = np.array([math.cos(rad), -math.sin(rad), math.sin(rad), math.cos(rad)])\n",
    "            rotate_mat = rotate_mat.reshape(2, 2)\n",
    "            \n",
    "            new_mat = rotate_mat @ pnt\n",
    "            \n",
    "            xf = new_mat[0][0]\n",
    "            yf = new_mat[1][0]\n",
    "            \n",
    "            x2 = int(xf + 150)\n",
    "            y2 = int(yf)\n",
    "            \n",
    "            newImage[x2, y2] = pix\n",
    "            \n",
    "    return newImage"
   ]
  },
  {
   "cell_type": "code",
   "execution_count": null,
   "metadata": {},
   "outputs": [],
   "source": []
  }
 ],
 "metadata": {
  "kernelspec": {
   "display_name": "base",
   "language": "python",
   "name": "python3"
  },
  "language_info": {
   "codemirror_mode": {
    "name": "ipython",
    "version": 3
   },
   "file_extension": ".py",
   "mimetype": "text/x-python",
   "name": "python",
   "nbconvert_exporter": "python",
   "pygments_lexer": "ipython3",
   "version": "3.11.3"
  }
 },
 "nbformat": 4,
 "nbformat_minor": 2
}
