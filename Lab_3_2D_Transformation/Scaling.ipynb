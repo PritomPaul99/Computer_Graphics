{
 "cells": [
  {
   "cell_type": "markdown",
   "metadata": {},
   "source": [
    "# 2D Transformation"
   ]
  },
  {
   "cell_type": "markdown",
   "metadata": {},
   "source": [
    "## Scaling"
   ]
  },
  {
   "cell_type": "code",
   "execution_count": 7,
   "metadata": {},
   "outputs": [],
   "source": [
    "import matplotlib.image as img\n",
    "import numpy as np"
   ]
  },
  {
   "cell_type": "markdown",
   "metadata": {},
   "source": [
    "### Import the image\n",
    "> If you are using google colab, mount the google drive"
   ]
  },
  {
   "cell_type": "code",
   "execution_count": 8,
   "metadata": {},
   "outputs": [
    {
     "name": "stdout",
     "output_type": "stream",
     "text": [
      "(278, 277, 4)\n",
      "277 278\n"
     ]
    }
   ],
   "source": [
    "image  = img.imread(\"cube_3x3.PNG\")\n",
    "\n",
    "w, h = image.shape[:2]\n",
    "\n",
    "print(image.shape)\n",
    "print(h, w)"
   ]
  },
  {
   "cell_type": "markdown",
   "metadata": {},
   "source": [
    "### Take input\n",
    "> Sx = scaling in x axis  \n",
    "> Sy = scaling in y axis"
   ]
  },
  {
   "cell_type": "code",
   "execution_count": 9,
   "metadata": {},
   "outputs": [
    {
     "name": "stdout",
     "output_type": "stream",
     "text": [
      "2 2\n"
     ]
    }
   ],
   "source": [
    "Sx = int(input(\"In x axis:\")) # Or you can just assign a value\n",
    "Sy = int(input(\"In y axis:\"))\n",
    "\n",
    "print(Sx, Sy)"
   ]
  },
  {
   "cell_type": "markdown",
   "metadata": {},
   "source": [
    "### Create new image size"
   ]
  },
  {
   "cell_type": "code",
   "execution_count": 10,
   "metadata": {},
   "outputs": [
    {
     "name": "stdout",
     "output_type": "stream",
     "text": [
      "556 554\n"
     ]
    }
   ],
   "source": [
    "newX = (w * Sx)\n",
    "newY = (h * Sy)\n",
    "\n",
    "print(newX, newY)"
   ]
  },
  {
   "cell_type": "markdown",
   "metadata": {},
   "source": [
    "### Create scaling factor"
   ]
  },
  {
   "cell_type": "code",
   "execution_count": 11,
   "metadata": {},
   "outputs": [
    {
     "name": "stdout",
     "output_type": "stream",
     "text": [
      "2.0072202166064983 2.0072463768115942\n"
     ]
    }
   ],
   "source": [
    "xScale = newX/(w-1)\n",
    "yScale = newY/(h-1)\n",
    "\n",
    "print(xScale, yScale)"
   ]
  },
  {
   "cell_type": "markdown",
   "metadata": {},
   "source": [
    "### Create the new scaled image"
   ]
  },
  {
   "cell_type": "code",
   "execution_count": 12,
   "metadata": {},
   "outputs": [
    {
     "name": "stdout",
     "output_type": "stream",
     "text": [
      "(556, 554, 4)\n"
     ]
    }
   ],
   "source": [
    "newImg = np.zeros([newX, newY, 4])\n",
    "\n",
    "for i in range (newX - 1):\n",
    "    for j in range (newY - 1):\n",
    "        newImg[i+1, j+1] = image[(1 + int(i/xScale)), (1 + int(j/yScale))]\n",
    "        \n",
    "print(newImg.shape)"
   ]
  },
  {
   "cell_type": "code",
   "execution_count": 13,
   "metadata": {},
   "outputs": [],
   "source": [
    "# Save the image\n",
    "img.imsave(\"Scaled_cube.png\", newImg)"
   ]
  },
  {
   "cell_type": "markdown",
   "metadata": {},
   "source": [
    "### Plot the image"
   ]
  },
  {
   "cell_type": "code",
   "execution_count": 14,
   "metadata": {},
   "outputs": [],
   "source": [
    "import matplotlib.pyplot as plt"
   ]
  },
  {
   "cell_type": "code",
   "execution_count": 15,
   "metadata": {},
   "outputs": [
    {
     "data": {
      "image/png": "[encoded data removed]",
      "text/plain": [
       "<Figure size 640x480 with 2 Axes>"
      ]
     },
     "metadata": {},
     "output_type": "display_data"
    }
   ],
   "source": [
    "plt.subplot(1, 2, 1) # Create a sub plot subplot(row, column, #row_no)\n",
    "plt.imshow(image) # USed for showing image\n",
    "plt.subplot(1, 2, 2)\n",
    "plt.imshow(newImg)\n",
    "plt.tight_layout() # used to automatically adjust the subplot parameters to ensure that subplots fit within the figure area without overlapping with each other.\n",
    "plt.show()"
   ]
  },
  {
   "cell_type": "code",
   "execution_count": null,
   "metadata": {},
   "outputs": [],
   "source": []
  }
 ],
 "metadata": {
  "kernelspec": {
   "display_name": "base",
   "language": "python",
   "name": "python3"
  },
  "language_info": {
   "codemirror_mode": {
    "name": "ipython",
    "version": 3
   },
   "file_extension": ".py",
   "mimetype": "text/x-python",
   "name": "python",
   "nbconvert_exporter": "python",
   "pygments_lexer": "ipython3",
   "version": "3.11.3"
  }
 },
 "nbformat": 4,
 "nbformat_minor": 2
}
