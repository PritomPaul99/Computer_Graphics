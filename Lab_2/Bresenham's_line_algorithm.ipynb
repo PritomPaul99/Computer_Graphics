{
 "cells": [
  {
   "cell_type": "markdown",
   "metadata": {},
   "source": [
    "# Bresenham's line algorithm"
   ]
  },
  {
   "cell_type": "code",
   "execution_count": 6,
   "metadata": {},
   "outputs": [],
   "source": [
    "import matplotlib.pyplot as plt # Not Necessary"
   ]
  },
  {
   "cell_type": "markdown",
   "metadata": {},
   "source": [
    "## Take input"
   ]
  },
  {
   "cell_type": "code",
   "execution_count": 2,
   "metadata": {},
   "outputs": [
    {
     "name": "stdout",
     "output_type": "stream",
     "text": [
      "20 10\n",
      "30 18\n"
     ]
    }
   ],
   "source": [
    "x1, y1 = input().split()\n",
    "x2, y2 = input().split()\n",
    "\n",
    "# Initially (x1, y1) & (x2, y2) are strings. We need to convert tem to integers\n",
    "x1 = int(x1)\n",
    "y1 = int(y1)\n",
    "x2 = int(x2)\n",
    "y2 = int(y2)\n",
    "\n",
    "print(x1, y1)\n",
    "print(x2, y2)"
   ]
  },
  {
   "cell_type": "markdown",
   "metadata": {},
   "source": [
    "## Implement the initial point\n",
    "```dos\n",
    "p0 = 2△y - 2△x\n",
    "```"
   ]
  },
  {
   "cell_type": "code",
   "execution_count": 3,
   "metadata": {},
   "outputs": [
    {
     "name": "stdout",
     "output_type": "stream",
     "text": [
      "6\n"
     ]
    }
   ],
   "source": [
    "del_x = x2 - x1\n",
    "del_y = y2 - y1\n",
    "\n",
    "p0 = (2 * del_y) - del_x\n",
    "\n",
    "print(p0)"
   ]
  },
  {
   "cell_type": "markdown",
   "metadata": {},
   "source": [
    "## Calculate the line"
   ]
  },
  {
   "cell_type": "code",
   "execution_count": 8,
   "metadata": {},
   "outputs": [
    {
     "name": "stdout",
     "output_type": "stream",
     "text": [
      "(21,11)\n",
      "(22,12)\n",
      "(23,12)\n",
      "(24,13)\n",
      "(25,14)\n",
      "(26,15)\n",
      "(27,16)\n",
      "(28,16)\n",
      "(29,17)\n",
      "(30,18)\n"
     ]
    }
   ],
   "source": [
    "x = x1 # Let's keep the initial value of `x1` into `x` for easier understanding\n",
    "y = y1 # Let's keep the initial value of `y1` into `y` for easier understanding\n",
    "p = p0 # Let's keep the initial value of `p0` into `p` for easier understanding\n",
    "\n",
    "X__ = [] # Not Necessary, a list\n",
    "Y__ = [] # Not Necessary, a list\n",
    "\n",
    "while(1):\n",
    "    if (p >= 0):\n",
    "        p = p + (2 * del_y) - (2 * del_x)\n",
    "        x = x + 1\n",
    "        y = y + 1\n",
    "        print(\"(\" + str(x) + \",\" + str(y) + \")\")\n",
    "        # Append the values of x & y into the lists, Not necessary\n",
    "        X__.append(x) # Not Necessary\n",
    "        Y__.append(y) # Not Necessary\n",
    "        \n",
    "    elif (p < 0):\n",
    "        p = p + (2 * del_y)\n",
    "        x = x + 1\n",
    "        y = y\n",
    "        print(\"(\" + str(x) + \",\" + str(y) + \")\")\n",
    "        # Append the values of x & y into the lists, Not necessary\n",
    "        X__.append(x) # Not Necessary\n",
    "        Y__.append(y) # Not Necessary\n",
    "    \n",
    "    if (x == x2 and y == y2):\n",
    "        break\n",
    "    \n",
    "    "
   ]
  },
  {
   "cell_type": "markdown",
   "metadata": {},
   "source": [
    "## Plot the line (Not Necessary)"
   ]
  },
  {
   "cell_type": "code",
   "execution_count": 9,
   "metadata": {},
   "outputs": [
    {
     "data": {
      "image/png": "[encoded data removed]",
      "text/plain": [
       "<Figure size 640x480 with 1 Axes>"
      ]
     },
     "metadata": {},
     "output_type": "display_data"
    }
   ],
   "source": [
    "plt.plot(X__, Y__)\n",
    "plt.show()"
   ]
  }
 ],
 "metadata": {
  "kernelspec": {
   "display_name": "base",
   "language": "python",
   "name": "python3"
  },
  "language_info": {
   "codemirror_mode": {
    "name": "ipython",
    "version": 3
   },
   "file_extension": ".py",
   "mimetype": "text/x-python",
   "name": "python",
   "nbconvert_exporter": "python",
   "pygments_lexer": "ipython3",
   "version": "3.11.3"
  }
 },
 "nbformat": 4,
 "nbformat_minor": 2
}
