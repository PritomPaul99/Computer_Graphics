{
 "cells": [
  {
   "cell_type": "markdown",
   "metadata": {},
   "source": [
    "# Midpoint circle algorithm"
   ]
  },
  {
   "cell_type": "code",
   "execution_count": 1,
   "metadata": {},
   "outputs": [],
   "source": [
    "import matplotlib.pyplot as plt # Not Necessary"
   ]
  },
  {
   "cell_type": "markdown",
   "metadata": {},
   "source": [
    "## Take input"
   ]
  },
  {
   "cell_type": "code",
   "execution_count": 2,
   "metadata": {},
   "outputs": [
    {
     "name": "stdout",
     "output_type": "stream",
     "text": [
      "0 10\n"
     ]
    }
   ],
   "source": [
    "r = int(input()) # r = radius\n",
    "\n",
    "x = 0\n",
    "y = r\n",
    "\n",
    "print(x, y)"
   ]
  },
  {
   "cell_type": "markdown",
   "metadata": {},
   "source": [
    "## Create initial point\n",
    "```md\n",
    "p0 = 1 - r\n",
    "```"
   ]
  },
  {
   "cell_type": "code",
   "execution_count": 3,
   "metadata": {},
   "outputs": [
    {
     "name": "stdout",
     "output_type": "stream",
     "text": [
      "-9\n"
     ]
    }
   ],
   "source": [
    "p0 = 1 - r\n",
    "\n",
    "print(p0)"
   ]
  },
  {
   "cell_type": "markdown",
   "metadata": {},
   "source": [
    "## Draw the circle"
   ]
  },
  {
   "cell_type": "code",
   "execution_count": 4,
   "metadata": {},
   "outputs": [
    {
     "name": "stdout",
     "output_type": "stream",
     "text": [
      "(1,10)\n",
      "(2,10)\n",
      "(3,10)\n",
      "(4,9)\n",
      "(5,9)\n",
      "(6,8)\n",
      "(7,7)\n",
      "[1, 2, 3, 4, 5, 6, 7]\n",
      "[10, 10, 10, 9, 9, 8, 7]\n"
     ]
    }
   ],
   "source": [
    "p = p0 # Let's keep the initial value of `p0` into `p` for easier understanding\n",
    "\n",
    "X__ = [] # Not Necessary, a list\n",
    "Y__ = [] # Not Necessary, a list\n",
    "\n",
    "while (1):\n",
    "    if (p < 0):\n",
    "        x = x + 1\n",
    "        y = y\n",
    "        \n",
    "        X__.append(x) # Not Necessary\n",
    "        Y__.append(y) # Not Necessary\n",
    "        \n",
    "        p = p + (2 * x) + 1\n",
    "        print(\"(\" + str(x) + \",\" + str(y) + \")\")\n",
    "    elif (p >= 0):\n",
    "        x = x + 1\n",
    "        y = y - 1\n",
    "        \n",
    "        X__.append(x) # Not Necessary\n",
    "        Y__.append(y) # Not Necessary\n",
    "        \n",
    "        p = p + (2 * x) + 1 - (2 * y)\n",
    "        print(\"(\" + str(x) + \",\" + str(y) + \")\")\n",
    "        \n",
    "    if (x == y):\n",
    "        break\n",
    "    \n",
    "print(X__) # not necessary\n",
    "print(Y__) # not necessary\n",
    "        "
   ]
  },
  {
   "cell_type": "markdown",
   "metadata": {},
   "source": [
    "## Plot the circle (Not necessary)"
   ]
  },
  {
   "cell_type": "code",
   "execution_count": 5,
   "metadata": {},
   "outputs": [
    {
     "data": {
      "image/png": "[encoded data removed]",
      "text/plain": [
       "<Figure size 640x480 with 1 Axes>"
      ]
     },
     "metadata": {},
     "output_type": "display_data"
    }
   ],
   "source": [
    "plt.plot(X__, Y__)\n",
    "plt.show()"
   ]
  },
  {
   "cell_type": "code",
   "execution_count": null,
   "metadata": {},
   "outputs": [],
   "source": []
  }
 ],
 "metadata": {
  "kernelspec": {
   "display_name": "base",
   "language": "python",
   "name": "python3"
  },
  "language_info": {
   "codemirror_mode": {
    "name": "ipython",
    "version": 3
   },
   "file_extension": ".py",
   "mimetype": "text/x-python",
   "name": "python",
   "nbconvert_exporter": "python",
   "pygments_lexer": "ipython3",
   "version": "3.11.3"
  }
 },
 "nbformat": 4,
 "nbformat_minor": 2
}
