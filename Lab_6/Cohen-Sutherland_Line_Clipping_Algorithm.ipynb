{
  "cells": [
    {
      "cell_type": "markdown",
      "id": "5ff1b234",
      "metadata": {
        "id": "5ff1b234"
      },
      "source": [
        "# Cohen-Sutherland Line Clipping Algorithm"
      ]
    },
    {
      "cell_type": "code",
      "execution_count": null,
      "id": "4f3c1fb3",
      "metadata": {
        "id": "4f3c1fb3",
        "outputId": "4d32d679-775e-46ed-851a-43a74a73d508"
      },
      "outputs": [
        {
          "name": "stdout",
          "output_type": "stream",
          "text": [
            "-1 7\n",
            "-4 2\n"
          ]
        }
      ],
      "source": [
        "x1, y1 = input().split()\n",
        "x2, y2 = input().split()"
      ]
    },
    {
      "cell_type": "code",
      "execution_count": null,
      "id": "1655e34b",
      "metadata": {
        "id": "1655e34b"
      },
      "outputs": [],
      "source": [
        "x1 = int(x1)\n",
        "y1 = int(y1)\n",
        "x2 = int(x2)\n",
        "y2 = int(y2)"
      ]
    },
    {
      "cell_type": "code",
      "execution_count": null,
      "id": "2b3a4318",
      "metadata": {
        "id": "2b3a4318",
        "outputId": "0376b6b7-72f2-4270-c387-624a9c7d06bf"
      },
      "outputs": [
        {
          "name": "stdout",
          "output_type": "stream",
          "text": [
            "Xmax:2\n",
            "Xmin:-3\n",
            "Ymax:6\n",
            "Ymin:1\n"
          ]
        }
      ],
      "source": [
        "xmax = int(input(\"Xmax:\"))\n",
        "xmin = int(input(\"Xmin:\"))\n",
        "ymax = int(input(\"Ymax:\"))\n",
        "ymin = int(input(\"Ymin:\"))"
      ]
    },
    {
      "cell_type": "code",
      "execution_count": null,
      "id": "0ab3dabd",
      "metadata": {
        "id": "0ab3dabd",
        "outputId": "5efa2152-8d7f-451f-b174-85c7085d6339"
      },
      "outputs": [
        {
          "name": "stdout",
          "output_type": "stream",
          "text": [
            "1.6666666666666667\n"
          ]
        }
      ],
      "source": [
        "y = (y2 - y1)\n",
        "x = (x2 - x1)\n",
        "m = y/x\n",
        "print(m)"
      ]
    },
    {
      "cell_type": "code",
      "execution_count": null,
      "id": "688b93a5",
      "metadata": {
        "id": "688b93a5",
        "outputId": "0bc1a5e4-17e3-4c13-de2f-f0294190f941"
      },
      "outputs": [
        {
          "name": "stdout",
          "output_type": "stream",
          "text": [
            "(-1.6, 6)\n",
            "(-3, 3.6666666666666665)\n"
          ]
        }
      ],
      "source": [
        "n_x = x1 + ((ymin - y1) / m)\n",
        "if xmin <= n_x <= xmax:\n",
        "    print((n_x, ymin))\n",
        "\n",
        "n_x = x1 + ((ymax - y1) / m)\n",
        "if xmin <= n_x <= xmax:\n",
        "    print((n_x, ymax))\n",
        "\n",
        "n_y = y1 + (m * (xmin - x1))\n",
        "if ymin <= n_y <= ymax:\n",
        "    print((xmin, n_y))\n",
        "\n",
        "n_y = y1 + (m * (xmax - x1))\n",
        "if ymin <= n_y <= ymax:\n",
        "    print((xmax, n_y))"
      ]
    },
    {
      "cell_type": "code",
      "execution_count": null,
      "id": "55f91a3e",
      "metadata": {
        "id": "55f91a3e",
        "outputId": "28159c35-c572-4ad4-9e94-718b521d13b3"
      },
      "outputs": [
        {
          "name": "stdout",
          "output_type": "stream",
          "text": [
            "['1000'] ['0001']\n",
            "After clipped:  [0000]\n"
          ]
        }
      ],
      "source": [
        "def region_code(x, y, xmin, ymin, xmax, ymax):\n",
        "    code = [0, 0, 0, 0]\n",
        "    if x < xmin:\n",
        "        code[3] = 1\n",
        "    elif x > xmax:\n",
        "        code[2] = 1\n",
        "    if y < ymin:\n",
        "        code[1] = 1\n",
        "    elif y > ymax:\n",
        "        code[0] = 1\n",
        "    return ''.join(map(str, code))\n",
        "\n",
        "def clip_line(x1, y1, x2, y2, xmin, ymin, xmax, ymax):\n",
        "    region_code1 = region_code(x1, y1, xmin, ymin, xmax, ymax)\n",
        "    region_code2 = region_code(x2, y2, xmin, ymin, xmax, ymax)\n",
        "    clipped_code = [str(int(region_code1[i]) or int(region_code2[i])) for i in range(4)]\n",
        "\n",
        "    print([region_code1],[region_code2])\n",
        "\n",
        "    if ''.join(clipped_code) == '0000':\n",
        "        print('visible')\n",
        "    else:\n",
        "        clipped_and = [str(int(region_code1[i]) and int(region_code2[i])) for i in range(4)]\n",
        "        print('After clipped: ', '[' + ''.join(clipped_and) + ']')\n",
        "\n",
        "clip_line(x1, y1, x2, y2, xmin, ymin, xmax, ymax)"
      ]
    },
    {
      "cell_type": "code",
      "execution_count": null,
      "id": "a1781d9b",
      "metadata": {
        "id": "a1781d9b"
      },
      "outputs": [],
      "source": []
    }
  ],
  "metadata": {
    "kernelspec": {
      "display_name": "Python 3 (ipykernel)",
      "language": "python",
      "name": "python3"
    },
    "language_info": {
      "codemirror_mode": {
        "name": "ipython",
        "version": 3
      },
      "file_extension": ".py",
      "mimetype": "text/x-python",
      "name": "python",
      "nbconvert_exporter": "python",
      "pygments_lexer": "ipython3",
      "version": "3.9.13"
    },
    "colab": {
      "provenance": []
    }
  },
  "nbformat": 4,
  "nbformat_minor": 5
}