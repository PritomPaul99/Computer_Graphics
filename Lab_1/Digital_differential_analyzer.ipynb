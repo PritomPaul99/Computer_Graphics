{
 "cells": [
  {
   "cell_type": "markdown",
   "metadata": {},
   "source": [
    "# Digital Differential Analyzer\n"
   ]
  },
  {
   "cell_type": "code",
   "execution_count": 21,
   "metadata": {},
   "outputs": [],
   "source": [
    "import matplotlib.pyplot as plt # Not necessary"
   ]
  },
  {
   "cell_type": "markdown",
   "metadata": {},
   "source": [
    "## Take Input"
   ]
  },
  {
   "cell_type": "code",
   "execution_count": 22,
   "metadata": {},
   "outputs": [
    {
     "name": "stdout",
     "output_type": "stream",
     "text": [
      "2 3\n",
      "6 15\n"
     ]
    }
   ],
   "source": [
    "x1, y1 = input().split()\n",
    "x2, y2 = input().split()\n",
    "\n",
    "# initially, inputs are string. Convert them to integer\n",
    "x1 = int(x1)\n",
    "y1 = int(y1)\n",
    "x2 = int(x2)\n",
    "y2 = int(y2)\n",
    "\n",
    "print(x1, y1)\n",
    "print(x2, y2)"
   ]
  },
  {
   "cell_type": "markdown",
   "metadata": {},
   "source": [
    "## Calculate m (m = Slop)\n",
    "```azurepowershell-interactive\n",
    "m = (y2-y1)/(x2-x1)\n",
    "```"
   ]
  },
  {
   "cell_type": "code",
   "execution_count": 23,
   "metadata": {
    "notebookRunGroups": {
     "groupValue": ""
    }
   },
   "outputs": [
    {
     "name": "stdout",
     "output_type": "stream",
     "text": [
      "3.0\n"
     ]
    }
   ],
   "source": [
    "m = (y2-y1)/(x2-x1)\n",
    "print(m)"
   ]
  },
  {
   "cell_type": "markdown",
   "metadata": {},
   "source": [
    "## Set Condition\n",
    "- if (0 < m <= 1)\n",
    "    - x1 = x0 + 1\n",
    "    - y1 = y0 + m\n",
    "- if (-1 <= m <= 0)\n",
    "    - x1 = x0 - 1\n",
    "    - y1 = y0 - m\n",
    "- if (m > 1)\n",
    "    - x1 = x0 + (1/m)\n",
    "    - y1 = y0 + 1\n",
    "- if (m < 1)\n",
    "    - x1 = x0 - (1/m)\n",
    "    - y1 = y0 - 1"
   ]
  },
  {
   "cell_type": "code",
   "execution_count": 24,
   "metadata": {},
   "outputs": [
    {
     "name": "stdout",
     "output_type": "stream",
     "text": [
      "0.3333333333333333 1\n"
     ]
    }
   ],
   "source": [
    "# Here,\n",
    "# up_x = updated value of x1\n",
    "# up_y = updated value of y1\n",
    "\n",
    "if (0 < m and m <= 1):\n",
    "    up_x = 1\n",
    "    up_y = m\n",
    "elif (-1 <= m and m <= 0):\n",
    "    up_x = -1\n",
    "    up_y = -m\n",
    "elif (m > 1):\n",
    "    up_x = 1/m\n",
    "    up_y = 1\n",
    "elif (m < -1):\n",
    "    up_x = -(1/m)\n",
    "    up_y = -1\n",
    "    \n",
    "    \n",
    "print(up_x, up_y)"
   ]
  },
  {
   "cell_type": "markdown",
   "metadata": {},
   "source": [
    "## Calculate the next points of the line"
   ]
  },
  {
   "cell_type": "code",
   "execution_count": 25,
   "metadata": {},
   "outputs": [
    {
     "name": "stdout",
     "output_type": "stream",
     "text": [
      "(2,3)\n",
      "(2,4)\n",
      "(3,5)\n",
      "(3,6)\n",
      "(3,7)\n",
      "(4,8)\n",
      "(4,9)\n",
      "(4,10)\n",
      "(5,11)\n",
      "(5,12)\n",
      "(5,13)\n",
      "(6,14)\n",
      "(6,15)\n"
     ]
    }
   ],
   "source": [
    "x = x1\n",
    "y = y1\n",
    "\n",
    "X__ = [] # Not Necessary\n",
    "Y__ = [] # Not Necessary\n",
    "\n",
    "while(1):\n",
    "    X__.append(round(x)) # Not Necessary\n",
    "    Y__.append(round(y)) # Not Necessary\n",
    "    print(\"(\" + str(round(x)) + \",\" + str(round(y)) + \")\")\n",
    "    if(round(x) == x2 and round(y) == y2):\n",
    "        break\n",
    "    x = x + up_x\n",
    "    y = y + up_y"
   ]
  },
  {
   "cell_type": "markdown",
   "metadata": {},
   "source": [
    "## Draw the plot of the line (Not Necessary)"
   ]
  },
  {
   "cell_type": "code",
   "execution_count": 26,
   "metadata": {},
   "outputs": [
    {
     "data": {
      "image/png": "[encoded data removed]",
      "text/plain": [
       "<Figure size 640x480 with 1 Axes>"
      ]
     },
     "metadata": {},
     "output_type": "display_data"
    }
   ],
   "source": [
    "plt.plot(X__, Y__) # Not Necessary\n",
    "plt.show() # Not Necessary"
   ]
  },
  {
   "cell_type": "code",
   "execution_count": null,
   "metadata": {},
   "outputs": [],
   "source": []
  }
 ],
 "metadata": {
  "kernelspec": {
   "display_name": "base",
   "language": "python",
   "name": "python3"
  },
  "language_info": {
   "codemirror_mode": {
    "name": "ipython",
    "version": 3
   },
   "file_extension": ".py",
   "mimetype": "text/x-python",
   "name": "python",
   "nbconvert_exporter": "python",
   "pygments_lexer": "ipython3",
   "version": "3.11.3"
  }
 },
 "nbformat": 4,
 "nbformat_minor": 2
}
